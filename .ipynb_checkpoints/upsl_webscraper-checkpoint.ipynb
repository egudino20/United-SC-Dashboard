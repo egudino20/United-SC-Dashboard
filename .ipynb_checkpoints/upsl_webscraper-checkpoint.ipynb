{
 "cells": [
  {
   "cell_type": "code",
   "execution_count": 1,
   "id": "4064a9be-eb6a-4d82-b69f-3e4af6e5d948",
   "metadata": {},
   "outputs": [],
   "source": [
    "import re\n",
    "import requests\n",
    "\n",
    "from bs4 import BeautifulSoup"
   ]
  },
  {
   "cell_type": "code",
   "execution_count": 18,
   "id": "1ad00c5c-126f-4097-b578-99e0b83cd56c",
   "metadata": {},
   "outputs": [],
   "source": [
    "# define UPSL website url\n",
    "url = \"https://premier.upsl.com/teams/united-sc-558872/\"\n",
    "# create an instance of team_id - usually the last item in url [-1]\n",
    "team_id = url.split(\"/\")[-2]"
   ]
  },
  {
   "cell_type": "code",
   "execution_count": 19,
   "id": "75c496a2-a857-4143-8c0f-09790419acff",
   "metadata": {},
   "outputs": [
    {
     "data": {
      "text/plain": [
       "'united-sc-558872'"
      ]
     },
     "execution_count": 19,
     "metadata": {},
     "output_type": "execute_result"
    }
   ],
   "source": [
    "team_id"
   ]
  },
  {
   "cell_type": "code",
   "execution_count": 30,
   "id": "de173bc2-a3f1-404a-a89f-5e41340de9e4",
   "metadata": {},
   "outputs": [],
   "source": [
    "headers = {\n",
    "    \"User-Agent\": \"Mozilla/5.0 (Windows NT 10.0; Win64; x64) AppleWebKit/537.36 (KHTML, like Gecko) Chrome/131.0.0.0 Safari/537.36\",\n",
    "    \"Accept-Language\": \"en-US,en;q=0.9\",\n",
    "    \"Accept-Encoding\": \"gzip, deflate, br\"\n",
    "}"
   ]
  },
  {
   "cell_type": "code",
   "execution_count": 31,
   "id": "e7003ace-155f-402c-9e82-46a75c376a42",
   "metadata": {},
   "outputs": [],
   "source": [
    "response = requests.get(url, headers=headers)"
   ]
  },
  {
   "cell_type": "code",
   "execution_count": 32,
   "id": "e9d49974-e9b3-47b0-aebd-06d46d3dbe11",
   "metadata": {},
   "outputs": [
    {
     "data": {
      "text/plain": [
       "403"
      ]
     },
     "execution_count": 32,
     "metadata": {},
     "output_type": "execute_result"
    }
   ],
   "source": [
    "response.status_code"
   ]
  },
  {
   "cell_type": "code",
   "execution_count": 29,
   "id": "376a6e05-0353-46e1-a977-01ea7881a4fb",
   "metadata": {},
   "outputs": [
    {
     "name": "stdout",
     "output_type": "stream",
     "text": [
      "<!DOCTYPE html><html lang=\"en-US\"><head><title>Just a moment...</title><meta http-equiv=\"Content-Type\" content=\"text/html; charset=UTF-8\"><meta http-equiv=\"X-UA-Compatible\" content=\"IE=Edge\"><meta name=\"robots\" content=\"noindex,nofollow\"><meta name=\"viewport\" content=\"width=device-width,initial-scale=1\"><style>*{box-sizing:border-box;margin:0;padding:0}html{line-height:1.15;-webkit-text-size-adjust:100%;color:#313131;font-family:system-ui,-apple-system,BlinkMacSystemFont,Segoe UI,Roboto,Helvetica Neue,Arial,Noto Sans,sans-serif,Apple Color Emoji,Segoe UI Emoji,Segoe UI Symbol,Noto Color Emoji}body{display:flex;flex-direction:column;height:100vh;min-height:100vh}.main-content{margin:8rem auto;max-width:60rem;padding-left:1.5rem}@media (width <= 720px){.main-content{margin-top:4rem}}.h2{font-size:1.5rem;font-weight:500;line-height:2.25rem}@media (width <= 720px){.h2{font-size:1.25rem;line-height:1.5rem}}#challenge-error-text{background-image:url(data:image/svg+xml;base64,PHN2ZyB4bWxucz0iaHR0cDovL3d3dy53My5vcmcvMjAwMC9zdmciIHdpZHRoPSIzMiIgaGVpZ2h0PSIzMiIgZmlsbD0ibm9uZSI+PHBhdGggZmlsbD0iI0IyMEYwMyIgZD0iTTE2IDNhMTMgMTMgMCAxIDAgMTMgMTNBMTMuMDE1IDEzLjAxNSAwIDAgMCAxNiAzbTAgMjRhMTEgMTEgMCAxIDEgMTEtMTEgMTEuMDEgMTEuMDEgMCAwIDEtMTEgMTEiLz48cGF0aCBmaWxsPSIjQjIwRjAzIiBkPSJNMTcuMDM4IDE4LjYxNUgxNC44N0wxNC41NjMgOS41aDIuNzgzem0tMS4wODQgMS40MjdxLjY2IDAgMS4wNTcuMzg4LjQwNy4zODkuNDA3Ljk5NCAwIC41OTYtLjQwNy45ODQtLjM5Ny4zOS0xLjA1Ny4zODktLjY1IDAtMS4wNTYtLjM4OS0uMzk4LS4zODktLjM5OC0uOTg0IDAtLjU5Ny4zOTgtLjk4NS40MDYtLjM5NyAxLjA1Ni0uMzk3Ii8+PC9zdmc+);background-repeat:no-repeat;background-size:contain;padding-left:34px}@media (prefers-color-scheme:dark){body{background-color:#222;color:#d9d9d9}}</style><meta http-equiv=\"refresh\" content=\"390\"></head><body class=\"no-js\"><div class=\"main-wrapper\" role=\"main\"><div class=\"main-content\"><noscript><div class=\"h2\"><span id=\"challenge-error-text\">Enable JavaScript and cookies to continue</span></div></noscript></div></div><script>(function(){window._cf_chl_opt={cvId: '3',cZone: \"premier.upsl.com\",cType: 'managed',cRay: '8f2232b869878fb8',cH: 'Wy3eztYEi4x_yHAbSUP_zWjD5KPMwpPBMlFuvPVrwDg-1734221295-1.2.1.1-jTkiFILPuPCNmEQEQGJss35nkTGLx.JJfBQpmk1UNFmJ4OHgZeC4JS9r6cVDo5k6',cUPMDTk: \"\\/teams\\/united-sc-558872\\/?__cf_chl_tk=2QAHoJXchy2VuumhewvvSz5KBqgdJadkBhDtOfYMFGw-1734221295-1.0.1.1-QyjHxhQENuiNuOidl9zkvS42i2Qzm_G5zCXA0ROD8xU\",cFPWv: 'g',cITimeS: '1734221295',cTTimeMs: '1000',cMTimeMs: '390000',cTplC: 0,cTplV: 5,cTplB: 'cf',cK: \"\",fa: \"\\/teams\\/united-sc-558872\\/?__cf_chl_f_tk=2QAHoJXchy2VuumhewvvSz5KBqgdJadkBhDtOfYMFGw-1734221295-1.0.1.1-QyjHxhQENuiNuOidl9zkvS42i2Qzm_G5zCXA0ROD8xU\",md: \"wVo0x9.VXRqio6s96g4M2UX4uilW08e_nom3ym0AOiA-1734221295-1.2.1.1-cppBcrCb5LW7.rLDQbMNZTql0vXVRVFrIS9qzDzl_xZCn3OaFXX1smGlgwbrUkEFzbH_hlioDq5AkFw49KpPDVBTUoyNaCtLKK.WBVjPhUXVeGy6TOfxKC8jvmaEuoOaOru8sB8bB4w6pr302K__oHyHO4lQuZjfYCoyPsY9_msMhPV5Fsy_fkmnrbaLM.To5mFWCz0wP1UpJ3hBJPpBgHf4.VaCt8dQ7qBGH4ec1PWryUhkrlQOCX1hFc9DoPZW2IpnPIYscifg2VlNNkjb9oWsvsx6DsuTSwGLaauA.e1CIgPnlg7T3lGSVAvAIUBjnSWPqDOJZ_WQJwqSXynsLwisYvJzcLTQJrV_l1knvMKlUkjS41E7jOjL43Y5k4J8yDX7a5voxmnDj1PBkjKsr5s.v5cUPf0rBPM2fux7qwBqZShg8NiWegWtweMyz0Jh.CPXmDrbCqkKrRVZcdrm72Am2PYBMH2gZqbPZhbdVZ.gMhsDuMJ.bs6PGjBDrJV9GwPjSv7BKBdhID6gBTo.Z30wtkm11osHZRpChG1_KzI_I3RomqCnV800M7IEUp2FhkHHV4BcNccQJ7y_yr.6hqUK.u3DbtsjjwGLGYX40HSg9HrrHiBSnwfiQAbnn6Ti.Fu2rwZtIcfePpq0tIN8lcThYtwev5SuyrrvuhAjyKiPgsp7ei82YKZljhkv23CTopkvPdxo6oqke7Paxvi4lVy7RyEPT7e6mzOspfitxt6dG00HcOCdAn8Bb.zIlJdEscO_xZCC3Gbrfq5f.rIM_vEm4SyQMUHhOVg47D_T5YVXaLVPQsmQhdOjQoG7FStT_OkG6Zds.RaR51ttR.t6qGl9z9O_3Ve_dz6wf6u3ou.OAYd85j6CqU1UMQQwQxPClBJb_J8g3Mt.wizIm2Pw1INx0tvVrGcPa.eBgm5GpXvbbHueKA075wmh9wnMiK_s4q_Zqy8zBV2yh_HcQ.nTGOVZW1ZsXFkfNhtWbdmdwso24tMJlw.LJZL8H6jcyQHu6I5uLyb9pmDNqZSAkNHuNhcmfD9bsm95_Rs3B.BP8layGYaLU4NNN8_BvSTCqApXP.i2NeGuEqtP6pxBl_FaK.UiQv4NuZdXZ6J8kTobbxSVbibDNp0tCnZCnA3u3MW7RDdaGZkm2SU08KGvL.Gz5GCTWgujpocbzwozjJ5SPpxg0isXr.fCB86BSgqlEQdNSfeXcQHT5aMT1mne8m2EtQdRzmBoThEbwHWr7kTWDUZK1svRuWhHpU8FqlPAWLLAtmXs7lizDyPPFL.Oppmx0fycw7CP0ZwxnuNjBn1hv0.LDxAam_MI1MVL43bObv4TKkL__boqUUk025vqTRCvT.EfUrJF3FnZxH6kJBCro4J2y8UFCd6Pshj.69Nydvn8xVplWmm0vtChz2CAxmU1DowQHsrunqVvh9JcftD5VV.iKFoG7aghb33sliVgSpcsITbAw1cdqqTGAe8G4M4pnjMRidAYEqJEpwR8U0t6b8tXrzw1cqrTR1NHi.f6v0.f1EKcJvfoiLOEJ8Op6C4hwFD9wnvpqJZ3qt5ey9zVreEk83X0VpRtCMasuUphy_c06b53EDUiuiTap6_Pq07FOjD8C0jo7U8HFAwmkpanDkzVhy6BOR1eoslNuILSi3zlXP037o8pmaHVJRGmjkRUnhibnBSiIYkVA6FWFTNzqpo.iRGP2xCErHeuZyinzWEK.k9.UilgbqJWi1XkkQUfW90G9weBGA50Bj0h7sGr7O9GP3YhYdP9dro1GK3VKLY8TWxKDG1lb47TAXszNnRsJCU8cIRJf6Ec5BGJoeB2zetmpmcZfF66jiPRDsq9pz84l7HQNuKJ909nWwluhMFXGc6tzG8mOR8op8wPxXpKfom6mYyi_S0zGJdLd5sCVK.8z3z0J8jTxPbUhjQX8iS02IoO2y5GN0.3XemWex35NtYX.dAmm8jkAt.mvG2TnxkYWGCL2RlJbLobziydD8R3dGURuxXAHEhhBFA9YuPQbbAQUwvD9MD3rlNFEXltUrhn6W8bsKz8rJwMinVuJL6EMsmZ7M6ohqNGWjfl9_GQXyfQ0p4Lr1ihXhlS.RiHkO0WMdrLznYnSV14OGYZMUyOzyAFEyiIkqr4EKoRKeXogpC0xmSJcsM1NQ4TfEdEPY74peKJwJcw53thyTEqfphcP0Wb1j1Ue1u.OaoHvAzeJG3qeirMfqr0JsUDSgO.BgkHuzp71Ewl69TuKekUKopxrLr_9qCVdCuRq71.ZVgJcoBBj5kqKjY2EDCcVfxoL3y6pMSXnPTg7xbJl0cNcunsPOfz9d8Am2Ehqj9SaZePnEwTw.eSEYkb__X6o1GRlT5yG0fnqLfCWY6MvsC12BhemgZm8pxfA7YppLH1kqFAu6.0OjNHw.LJHwbJJ3fbDntlWmeACZCXAVKFKQQp3MqBXmDmd0BFTRz1cCH_t0EEKLrrUeEOY8sjIITL1fSyALtB9ZyCRLOvPuvK0eXa2A_3sfzuP2HuvTYTPgEXM5_8wtsqZHjmylPQO.1ntiCzMiQgLNXON4VhNCGOOmqehQjGY68PjKMaR2picO0RMTV4sRAeA.r_BPUhd8qIY_3Hazt1WKx3Qoc4dYzBiDIhGVvE8b.CguYjrOZiy17BhI2G2PVF7IxI9jpm30KlvgNkkHAxLyBwaxrRGzS7VG81cfW_5JF9no1hwjGTjAg5MjsIj6FerVCv9pZu5yv_3042O_hpXPjfA2Ft7fxDW7V5dRgghw\",mdrd: \"Ul9nJGfpohkIS3ZEi6VmyPfD9AnXAOwR3NSuCjiMbNw-1734221295-1.2.1.1-X3lvMC4AsJ6svgom932bdZOfJE_1Uy0Axywpv5i6biaV.nCt9KTRbrXASr04Lj9uHDWhAf2Xh5vOW0IDbHiW_fiUbypuwY.aUTwTBkduGiCVNo9yy07.4oQ84zPf3E_2jQLTnes1U9EiHcb7mly4xC04gHTRi9TNL6_V0be49YNajeHwFDYkfXWh54nhQPoBC9aVY11xjCZ0PuoplzIH8QhnjtQlWvuZSPvmTfsdoz72gSfo4jRqow91AHZo.57BuhvanZF44PcyJEBV7bhtHhrjczrUk0Z_pQxzWDWD0nzNN0XUcNXcExlPcQFe3oXa185zf5LMfD2ugyEAsrvI3j04eP0c4hTlrje.TecxpRpYeBE2TXmzAMXivl01I9D5SesGimPq7mqXW9VzAqOayvrUD40EaKGEgepSfh1ozr7WcvDEVEz_.129YPSX9iVv6Zs6H16yuX6c957rljpQsfHs7CMw9P1KDocBgzGnTV_J93k10KQmM62CqJZj3IgD9EAF4iPP0M.DeH1KACqKj7xNlcQxDzqs2DhHrXRVR6qe5iumYOGww0AWsWUYjBJY0P.mbLwkJuBhGHmNkSXljXs0PYRZKXg3ap_mXRYykmzsz9F9Uba.GkHPCNL1GOTwns1JOwDHav4QiJLRzWEiajNefN81.I.fO3okLjfCoYameiiQnv675q.l7DD5xLUw_vI55N.meDIjqNToT.GiU0uZAbQwZ6f2Hl5XiDcT2FVHR7ZIfPjtHKZMjwJ9n2ypAlDG1kD0fURCj3biSuQqthoVpd4N_E7MibudhGA20fpLOMXxQR3w_CidKjc7p.z22iA5wjpzdTVhA9rskWTFztzYgSP.MVbqYQ1TefROZS8aO41aEAXrX66FA2BC9qCDWTREJQPqV6rOyKvzDkWb7HnKP7LDmribFshmu7MeA6PgE8c1MQl_88KLHvg07kJKiJiKlscv1iYevQc60DEmQbvWNP2KSYxtCjV5teXslxudghMtekUJnRVgmHkz1hOMM1iR_faC9erIwrabQQ4T3dMm3ozNR4Vz70AfrDKupGUzgW.Z9RAGn9YAqeoClr1aaRoIV3pZxNOziP8g9k5b3CZroKTNKyuoHrZj6F.Azu8Xs9bFQJEnu_3zGMBs_lVU4aSgi7BqXPF8n31S_Yq_VwL071.b7AB3c3t71Z3JCGkyh7ziywcKqvRffhKCj036F3bVMwJVqmDbetlR9.r3lpUh5ztmYqlPSHiTLk7nmdg3ENKLYta4EE3muXNG7TYKYpJ5uQJRAuBs8gZtcU4vchNrPMwaNudot_jhbSx2r_ec3hVBW_oziYhPC0WymK4sTr2rdTM8.RT6WLV8Ja4viDqXMO2ioVUjpcpQS4GDqiB02dJAR_ZRasgveojd66q77vmscxK2UnPCI2zlDlIrPHbRUbAPdzFaQCvZUN4QuSAXcXuoA8Z3cPALeXliwgyYDsdhKYr9ZOkTb.6L3b5Csmd_02v2.vZvvWJIQ_zJqklWFH4REjMBPodUAL5Vy5CMP6iRy2DGgcd2YLToG5QcSuHOue2g7Jv.y6XuNjJ_kAm_IYD.Q47XzFnAYWsMmj1MKx.2_uD88SN9n7ekh27EvMiLtux8W_85erd.JqbxnUeE2nUI___gdJ2OcOrGiMtdIUIYMiNwB5zcsiELZRBWXchdo3xoeQ4iTpvVdrhR_4rBiKLr_7aV3jMmFW6qPgDjJUMKlDDOQpxiX0XwoVax7baH.njdCLE1currhqa3WM5x83gD8ogFAY3SHuT22gfKW.0jY2gAHyHEevJrAkUO7mfyM9p9XGRwf5Cl1RPWFMnaNha_tD1.5Uu9_yFPHz92P4EQ2vInObc8k5sCEJzc9_19AGgl.8Zp6PxA7UYu4qYfigOli9OQ.S_9VDH1fjSjkucEzQpPYxFkHDy4Wqi92EOZFG0rbd0KiW14vLskzifZdsJ1L122y_DsBWyv2HVg14V3Vr8aNqUvfJLhilCbOVFK_FMbIN_nunpGPGfz1zo1Cqk1kr83qGF6TvTlUKPeEmkftd3Ua8YIdoHqhZUtpaUJjb4MlF4AFexH6zHXoR9YzDsyY84rtdd5c963cB9O55mX93NdG6u0IdZF3_gIzu65VbvRJrtc61YGCoRzb69BEWgBt1rAKKgoIDj_xZ1Tb6oxOMr4eBRiZqc.bX_bDOtUUR8UWXbK6AYW1bT6j_h39qrolTXj7CT5LN_Ya.jrp5rX6mMuvCmx2vqZncnanI_3LtmTSork6.K6ltD4GVsEaA45sXeUb89FYrX50mCgvoQbo02ijjrAZdERfXTtV2Qd.4JT0N3r0rJ8iY2IKCI\"};var cpo = document.createElement('script');cpo.src = '/cdn-cgi/challenge-platform/h/g/orchestrate/chl_page/v1?ray=8f2232b869878fb8';window._cf_chl_opt.cOgUHash = location.hash === '' && location.href.indexOf('#') !== -1 ? '#' : location.hash;window._cf_chl_opt.cOgUQuery = location.search === '' && location.href.slice(0, location.href.length - window._cf_chl_opt.cOgUHash.length).indexOf('?') !== -1 ? '?' : location.search;if (window.history && window.history.replaceState) {var ogU = location.pathname + window._cf_chl_opt.cOgUQuery + window._cf_chl_opt.cOgUHash;history.replaceState(null, null, \"\\/teams\\/united-sc-558872\\/?__cf_chl_rt_tk=2QAHoJXchy2VuumhewvvSz5KBqgdJadkBhDtOfYMFGw-1734221295-1.0.1.1-QyjHxhQENuiNuOidl9zkvS42i2Qzm_G5zCXA0ROD8xU\" + window._cf_chl_opt.cOgUHash);cpo.onload = function() {history.replaceState(null, null, ogU);}}document.getElementsByTagName('head')[0].appendChild(cpo);}());</script></body></html>\n"
     ]
    }
   ],
   "source": [
    "print(response.text)"
   ]
  },
  {
   "cell_type": "code",
   "execution_count": null,
   "id": "24b3e294-ec89-47d6-9667-6e50c03211a0",
   "metadata": {},
   "outputs": [],
   "source": []
  }
 ],
 "metadata": {
  "kernelspec": {
   "display_name": "Python (united_dashboard)",
   "language": "python",
   "name": "env"
  },
  "language_info": {
   "codemirror_mode": {
    "name": "ipython",
    "version": 3
   },
   "file_extension": ".py",
   "mimetype": "text/x-python",
   "name": "python",
   "nbconvert_exporter": "python",
   "pygments_lexer": "ipython3",
   "version": "3.11.5"
  }
 },
 "nbformat": 4,
 "nbformat_minor": 5
}
